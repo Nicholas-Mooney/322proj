{
 "cells": [
  {
   "cell_type": "code",
   "execution_count": null,
   "metadata": {
    "collapsed": true
   },
   "outputs": [],
   "source": [
    "#jvf\n"
   ]
  },
  {
   "cell_type": "markdown",
   "source": [
    "#Names of team - Nicholas Mooney\n",
    "#Name of project - who chopped my bolts\n",
    "#Its source - kaggle\n",
    "#format - csv\n",
    "\n",
    "#intro\n",
    "\n",
    "#data analysis\n",
    "\n",
    "#classification results\n",
    "#evaluators\n",
    "#conclusion\n"
   ],
   "metadata": {
    "collapsed": false
   }
  }
 ],
 "metadata": {
  "kernelspec": {
   "display_name": "Python 3",
   "language": "python",
   "name": "python3"
  },
  "language_info": {
   "codemirror_mode": {
    "name": "ipython",
    "version": 2
   },
   "file_extension": ".py",
   "mimetype": "text/x-python",
   "name": "python",
   "nbconvert_exporter": "python",
   "pygments_lexer": "ipython2",
   "version": "2.7.6"
  }
 },
 "nbformat": 4,
 "nbformat_minor": 0
}