{
 "cells": [
  {
   "cell_type": "code",
   "execution_count": null,
   "metadata": {
    "collapsed": true
   },
   "outputs": [],
   "source": [
    "#jvf\n"
   ]
  },
  {
   "cell_type": "markdown",
   "source": [
    "#Names of team - Nicholas Mooney\n",
    "#Name of project - who chopped my bolts\n",
    "#Its source - kaggle\n",
    "#format - csv\n",
    "\n",
    "#and its contents: \n",
    "- climbing route ratings forum descriptsions comments and route statustics\n",
    "\n",
    "\n",
    "#Include a brief description of the attributes\n",
    "- route attributes include name, length, difficulty, type, and rating, and possibly latitude / location \n",
    "\n",
    "#what you will use as class information (i.e., what attribute(s) you will try to predict).\n",
    "- I will be trying to predict wether a route is good or not as classified by the 4 star rating system in the mountain project route description\n",
    "\n",
    "#Implementation/technical merit\n",
    "#Anticipated challenges in pre-processing and/or classification\n",
    " - classification is a 4 star system and attributes are both numeric and not requiring some cleaning as well\n",
    "\n",
    "#If the number of attributes is large,\n",
    "how will you explore feature selection techniques to pare down the attributes?\n",
    "- only 5 attributes\n",
    "\n",
    "#Potential impact of the results\n",
    "- They will help me to decide whether\n",
    "or not to climb a route\n",
    "\n",
    "#Why are these results useful?\n",
    "- They are only usefull in\n",
    "analyzing what makes a route 'good'\n",
    "\n",
    "#Who are stakeholders interested in these\n",
    "results?:\n",
    " - Climbers\n"
   ],
   "metadata": {
    "collapsed": false
   }
  }
 ],
 "metadata": {
  "kernelspec": {
   "display_name": "Python 3",
   "language": "python",
   "name": "python3"
  },
  "language_info": {
   "codemirror_mode": {
    "name": "ipython",
    "version": 2
   },
   "file_extension": ".py",
   "mimetype": "text/x-python",
   "name": "python",
   "nbconvert_exporter": "python",
   "pygments_lexer": "ipython2",
   "version": "2.7.6"
  }
 },
 "nbformat": 4,
 "nbformat_minor": 0
}